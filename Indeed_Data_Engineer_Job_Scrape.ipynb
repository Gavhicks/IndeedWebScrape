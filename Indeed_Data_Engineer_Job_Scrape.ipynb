{
 "cells": [
  {
   "cell_type": "code",
   "execution_count": 1,
   "id": "e9a331ef",
   "metadata": {},
   "outputs": [],
   "source": [
    "#Import Libraries\n",
    "from bs4 import BeautifulSoup\n",
    "import requests\n",
    "from csv import writer\n",
    "import pandas as pd"
   ]
  },
  {
   "cell_type": "code",
   "execution_count": 2,
   "id": "ce40073f",
   "metadata": {},
   "outputs": [],
   "source": [
    "#Specify Target webpage\n",
    "def extract(page):\n",
    "        headers = {'User-Agent': 'Mozilla/5.0 (Windows NT 10.0; Win64; x64) AppleWebKit/537.36 (KHTML, like Gecko) Chrome/102.0.0.0 Safari/537.36'}\n",
    "        url = 'https://ie.indeed.com/jobs?q=data%20engineer&l=ireland&from=searchOnHP&vjk=0bc90d093c5e2690={page}'\n",
    "        r = requests.get(url, headers)\n",
    "        soup = BeautifulSoup(r.content, 'html.parser')\n",
    "        return soup"
   ]
  },
  {
   "cell_type": "code",
   "execution_count": 3,
   "id": "0718fcc1",
   "metadata": {},
   "outputs": [],
   "source": [
    "#Define datapoints\n",
    "def transform(soup):\n",
    "    divs = soup.find_all('div',class_= 'slider_container css-11g4k3a eu4oa1w0')\n",
    "    for item in divs:\n",
    "        title = item.find('a').text.strip()\n",
    "        company = item.find('span', class_='companyName').text.strip()\n",
    "        location = item.find('div', class_='companyLocation').text.strip()\n",
    "        summary = item.find('tr', class_='underShelfFooter').text.strip().replace('\\n', '')\n",
    " #Create Dictionary       \n",
    "        job = {\n",
    "            'title': title,\n",
    "            'company': company,\n",
    "            'location': location,\n",
    "            'summary': summary\n",
    "        }\n",
    "        joblist.append(job)\n",
    "    return"
   ]
  },
  {
   "cell_type": "code",
   "execution_count": 4,
   "id": "9b5b643d",
   "metadata": {},
   "outputs": [],
   "source": [
    "#Iterate through pages, extract to CSV.\n",
    "joblist = []\n",
    "\n",
    "for i in range(0,300,1):\n",
    "    c = extract(0)\n",
    "    transform(c)\n",
    "\n",
    "df = pd.DataFrame(joblist)\n",
    "df.to_csv('jobs.csv')"
   ]
  }
 ],
 "metadata": {
  "kernelspec": {
   "display_name": "Python 3 (ipykernel)",
   "language": "python",
   "name": "python3"
  },
  "language_info": {
   "codemirror_mode": {
    "name": "ipython",
    "version": 3
   },
   "file_extension": ".py",
   "mimetype": "text/x-python",
   "name": "python",
   "nbconvert_exporter": "python",
   "pygments_lexer": "ipython3",
   "version": "3.9.12"
  }
 },
 "nbformat": 4,
 "nbformat_minor": 5
}
